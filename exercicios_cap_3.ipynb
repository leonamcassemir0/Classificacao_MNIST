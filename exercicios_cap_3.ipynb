{
 "cells": [
  {
   "cell_type": "code",
   "execution_count": 1,
   "id": "acb94262-e73b-4cc5-afed-1fac2fe60df4",
   "metadata": {},
   "outputs": [],
   "source": [
    "from sklearn.datasets import fetch_openml\n",
    "\n",
    "mnist = fetch_openml('mnist_784', version=1)"
   ]
  },
  {
   "cell_type": "code",
   "execution_count": 2,
   "id": "a89609e7-4cb1-4453-b0b2-de92d5f07c98",
   "metadata": {},
   "outputs": [],
   "source": [
    "X, y = mnist[\"data\"], mnist[\"target\"]"
   ]
  },
  {
   "cell_type": "markdown",
   "id": "7e7b6371-403a-4003-aa14-80d3330a9a0d",
   "metadata": {},
   "source": [
    "# Exercícios"
   ]
  },
  {
   "cell_type": "markdown",
   "id": "31af8d01-6c64-47ec-8173-b53c047d32bd",
   "metadata": {},
   "source": [
    "1. Tente construir um classificador para o conjunto de dados do MNIST que alcance uma acurácia acima de 97% no conjunto de testes."
   ]
  },
  {
   "cell_type": "code",
   "execution_count": 3,
   "id": "8d6c7318-f0b1-4e98-a401-80f0dff48ab0",
   "metadata": {},
   "outputs": [],
   "source": [
    "from sklearn.neighbors import KNeighborsClassifier\n",
    "from sklearn.model_selection import GridSearchCV"
   ]
  },
  {
   "cell_type": "code",
   "execution_count": 4,
   "id": "678d5ca7-355f-486f-b11e-2f03cd50dca7",
   "metadata": {},
   "outputs": [],
   "source": [
    "X_train, X_test, y_train, y_test = X[:60000], X[60000:], y[:60000], y[60000:]\n",
    "y_train_5 = (y_train == 5)\n",
    "y_test_5 = (y_test == 5)"
   ]
  },
  {
   "cell_type": "code",
   "execution_count": null,
   "id": "af40a5be-d23f-4c4f-b225-0694e738bbf3",
   "metadata": {},
   "outputs": [
    {
     "name": "stdout",
     "output_type": "stream",
     "text": [
      "Fitting 5 folds for each of 6 candidates, totalling 30 fits\n",
      "[CV 1/5] END ....n_neighbors=3, weights=uniform;, score=0.972 total time= 3.3min\n",
      "[CV 2/5] END ....n_neighbors=3, weights=uniform;, score=0.971 total time= 3.4min\n",
      "[CV 3/5] END ....n_neighbors=3, weights=uniform;, score=0.969 total time= 3.1min\n",
      "[CV 4/5] END ....n_neighbors=3, weights=uniform;, score=0.969 total time= 3.5min\n",
      "[CV 5/5] END ....n_neighbors=3, weights=uniform;, score=0.970 total time= 3.2min\n",
      "[CV 1/5] END ...n_neighbors=3, weights=distance;, score=0.972 total time= 2.8min\n",
      "[CV 2/5] END ...n_neighbors=3, weights=distance;, score=0.972 total time= 3.8min\n"
     ]
    }
   ],
   "source": [
    "parameters = [{'weights':['uniform', 'distance'], 'n_neighbors':[3,4,5]}]\n",
    "knn = KNeighborsClassifier()\n",
    "grid_search = GridSearchCV(knn, parameters, cv=5, verbose=3)\n",
    "grid_search.fit(X_train, y_train)"
   ]
  },
  {
   "cell_type": "code",
   "execution_count": null,
   "id": "77c4ea18-1ccd-4b27-b840-a96cf9448816",
   "metadata": {},
   "outputs": [],
   "source": [
    "grid_search.best_params_"
   ]
  },
  {
   "cell_type": "code",
   "execution_count": null,
   "id": "1d499a26-18ad-49b8-811b-45c724a9f36d",
   "metadata": {},
   "outputs": [],
   "source": []
  }
 ],
 "metadata": {
  "kernelspec": {
   "display_name": "Python 3 (ipykernel)",
   "language": "python",
   "name": "python3"
  },
  "language_info": {
   "codemirror_mode": {
    "name": "ipython",
    "version": 3
   },
   "file_extension": ".py",
   "mimetype": "text/x-python",
   "name": "python",
   "nbconvert_exporter": "python",
   "pygments_lexer": "ipython3",
   "version": "3.9.2rc1"
  }
 },
 "nbformat": 4,
 "nbformat_minor": 5
}
